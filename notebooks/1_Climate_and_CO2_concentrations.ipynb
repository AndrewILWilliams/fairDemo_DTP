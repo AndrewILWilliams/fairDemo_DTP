{
 "cells": [
  {
   "cell_type": "markdown",
   "metadata": {},
   "source": [
    "# 1: Climate and CO$_{2}$ concentrations\n",
    "### PCS Day 2, Jan. 2022\n",
    "\n",
    "# Overview:\n",
    "\n",
    "In this session we use a simple climate model driven by CO$_{2}$ concentrations (not thinking about emissions yet!), to understand how global-mean temperature responds to idealized changes in CO$_{2}$ concentrations.\n",
    "\n",
    "Firstly, we examine the response to a instantaneous step-change in CO$_{2}$ concentrations, which is useful for introducing the concept of the *Equilibrium Climate Sensitivity* (or, ECS).\n",
    "\n",
    "Secondly, we examine the response of global-mean temperature to a \"ramp-up\" scenario, where we slowly increase the concentration of atmospheric CO$_{2}$ over time. This also helps to motivate a quantity termed the *Transient Climate Response* (or, TCR).\n",
    "\n",
    "\n",
    "**FaIR model**\n",
    "\n",
    "The Finite Amplitude Impulse Response (FaIR) model is a simple emissions-based, globally-averaged climate model. It allows the user to input emissions of greenhouse gases and short lived climate forcers in order to estimate global mean **atmospheric GHG concentrations**, **radiative forcing** and **temperature anomalies**. </br>\n",
    "\n",
    "Read the docs: https://readthedocs.org/projects/fair/downloads/pdf/latest/\n",
    "\n"
   ]
  },
  {
   "cell_type": "markdown",
   "metadata": {},
   "source": [
    "## Basic imports\n",
    "\n",
    "- **Numpy** is a library built on top of C which allows you to perform rapid numerical calculations in Python and generate/manipulate arrays and matrices in a similar way to in MATLAB. <br>\n",
    "\n",
    "\n",
    "- **Matplotlib** is the canonical plotting package in Python; as you might have guessed by the name, it's basically an open-source version of MATLAB's plotting functions. <br>\n",
    "    - The '%matplotlib inline' comment just allows normal plotting within the Jupyter notebooks"
   ]
  },
  {
   "cell_type": "code",
   "execution_count": 1,
   "metadata": {},
   "outputs": [],
   "source": [
    "%matplotlib inline"
   ]
  },
  {
   "cell_type": "code",
   "execution_count": null,
   "metadata": {},
   "outputs": [],
   "source": [
    "# Basic imports\n",
    "import numpy as np\n",
    "from matplotlib import pyplot as plt"
   ]
  },
  {
   "cell_type": "code",
   "execution_count": 3,
   "metadata": {},
   "outputs": [
    {
     "name": "stdout",
     "output_type": "stream",
     "text": [
      "We're using FaIR version 1.6.1\n"
     ]
    }
   ],
   "source": [
    "import fair\n",
    "\n",
    "# Check we're using v1.6.1 \n",
    "print(f\"We're using FaIR version {fair.__version__}\") \n",
    "\n",
    "# The \"engine\" of fair is fair_scm, stored in the fair.forward class\n",
    "from fair.forward import fair_scm"
   ]
  },
  {
   "cell_type": "markdown",
   "metadata": {},
   "source": [
    "# Model set up"
   ]
  },
  {
   "cell_type": "code",
   "execution_count": null,
   "metadata": {},
   "outputs": [],
   "source": [
    "\"\"\"Set key model parameters\"\"\"\n",
    "\n",
    "# Default model parameters\n",
    "ECS_def = 2.7     # equilibrium climate sensitivity (K), default=2.7K\n",
    "TCR_def = 1.6     # transient climate response (K), default=1.6K\n",
    "tau_s_def = 4.1   # ocean mixed layer response time scale (years), default=4.1yrs\n",
    "tau_d_def = 239.0 # deep ocean response time scale (years), default=239.0yrs\n",
    "\n",
    "# Alterable parameters\n",
    "ECS = 2.7         # equilibrium climate sensitivity (K), default=2.7K\n",
    "TCR = 1.6         # transient climate response (K), default=1.6K\n",
    "tau_s = 4.1       # ocean mixed layer response time scale (years), default=4.1yrs\n",
    "tau_d = 239.0     # deep ocean response time scale (years), default=239.0yrs\n",
    "\n",
    "\"\"\"Set maximum CO2 concentration in ppm\"\"\"\n",
    "CO2_init = 275\n",
    "CO2_max  = 2*275\n",
    "\n",
    "\n",
    "# How long do we want to run for?\n",
    "nyears = 500\n",
    "\n",
    "# Create time axis\n",
    "years=np.arange(nyears)\n",
    "\n",
    "\n",
    "\"\"\" Generate step-change scenario \"\"\"\n",
    "# Set up timeseries of CO2 concentrations \n",
    "concentrations_step = np.ones(nyears)*CO2_init \n",
    "\n",
    "# After year 50, set CO2 to 'CO2_max'\n",
    "concentrations_step[years>50] = CO2_max \n",
    "\n",
    "\n",
    "\"\"\" Generate ramp-up scenario \"\"\"\n",
    "# Set up timeseries of CO2 concentrations\n",
    "concentrations_ramp = CO2_init*np.power(1.01, years)\n",
    "\n",
    "# After year 70, set CO2 to 'CO2_max'\n",
    "concentrations_ramp[years>70] = CO2_max \n",
    "\n",
    "\n",
    "\n",
    "\"\"\" SWITCH: Do you want to plot the step-change scenario (concentrations_step) or the ramp-up scenario (concentrations_ramp)? \"\"\"\n",
    "concentrations = concentrations_step\n",
    "\n",
    "\n",
    "\n",
    "\n",
    "\"\"\" Run the simple climate model \"\"\"\n",
    "# Outputs are concentrations (C), forcing(F) and temperature change(T)\n",
    "\n",
    "# Run with default parameters\n",
    "C_def,F_def,T_def = fair_scm(\n",
    "    emissions_driven=False, # Tells the model we're using concentrations rather than emissions\n",
    "    C=concentrations,       # Input concentrations\n",
    "    useMultigas=False,      # Only consider CO2\n",
    "    tcrecs=np.array([TCR_def, ECS_def]),\n",
    "    d=np.array([tau_d_def, tau_s_def]))\n",
    "\n",
    "# Run again with altered parameters \n",
    "C,F,T = fair_scm(\n",
    "    emissions_driven=False, # Tells the model we're using concentrations rather than emissions\n",
    "    C=concentrations,       # Input concentrations\n",
    "    useMultigas=False,      # Only consider CO2\n",
    "    tcrecs=np.array([TCR, ECS]),\n",
    "    d=np.array([tau_d, tau_s]))\n",
    "\n",
    "\n",
    "\n",
    "\n",
    "\"\"\" Print key outputs \"\"\"\n",
    "print('T at year 70  = {:.2f}'.format(T[70]))\n",
    "print('Final T       = {:.2f}'.format(T[-1]))\n",
    "print('Forcing       = {:.2f} (W/m2)'.format(F[-1]))\n",
    "\n",
    "\n",
    "\n",
    "\n",
    "\"\"\" Plot the output \"\"\"\n",
    "fig,axs = plt.subplots(ncols=3, dpi=150, figsize=(10,3))\n",
    "\n",
    "axs[0].plot(years, C, color='blue', label='altered parameters')\n",
    "axs[0].plot(years, C_def, color='blue', linestyle='--', label='default parameters')\n",
    "axs[0].set_ylabel(\"Concentrations (ppmv)\")\n",
    "axs[0].set_xlabel(\"Years\")\n",
    "\n",
    "axs[1].plot(years, F, color='orange', label='altered parameters')\n",
    "axs[1].plot(years, F_def, color='orange', linestyle='--', label='default parameters')\n",
    "axs[1].set_ylabel(\"Radiative Forcing (W m$^{-2}$)\")\n",
    "axs[1].set_xlabel(\"Years\")\n",
    "\n",
    "axs[2].plot(years, T, color='red', label='altered parameters')\n",
    "axs[2].plot(years, T_def, color='red', linestyle='--', label='default parameters')\n",
    "axs[2].set_ylabel(\"Temperature Anomaly (K)\")\n",
    "axs[2].set_xlabel(\"Years\")\n",
    "\n",
    "axs[0].legend()\n",
    "\n",
    "fig.tight_layout() # Cleans up the labels so they don't overlap"
   ]
  },
  {
   "cell_type": "markdown",
   "metadata": {},
   "source": [
    "## Scenario 1: Response of global-mean temperature to a step-change in CO2 concentrations\n",
    "\n",
    "Make sure the model is set to simulate the step-up scenario (with `concentrations = concentrations_step`). \n",
    "\n",
    " -  Find what warming occurs under different levels of peak CO2 concentration values (CO2_max). (For an idea of values that may actually occur, note that current levels are approximately 400ppm, some pressure groups call for a target of 350ppm, and concentrations reach about 1200ppm at the end of the 21st century under the RCP8.5 scenario)."
   ]
  },
  {
   "cell_type": "code",
   "execution_count": null,
   "metadata": {},
   "outputs": [],
   "source": []
  },
  {
   "cell_type": "code",
   "execution_count": null,
   "metadata": {},
   "outputs": [],
   "source": []
  },
  {
   "cell_type": "markdown",
   "metadata": {},
   "source": [
    "## What is the relationship between CO2 concentrations and long-term warming?\n",
    "\n",
    "Extra brownie points if you can plot this! \n",
    "\n",
    "\n",
    "The following code snippet might be helpful...\n",
    "\n",
    "```python\n",
    "fig,ax = plt.subplots() # Sets up a figure and axis for plotting\n",
    "\n",
    "# Plot a line graph of peak warming vs CO2 concentrations\n",
    "ax.plot(concentrations, peak_warming) \n",
    "```\n",
    "\n",
    "You'll have to generate these input arrays yourself by running the model a few times and then putting the outputs into a numpy array.\n",
    "\n",
    "For example:\n",
    "```python\n",
    "concentrations = np.array([300, 400, 500, 600, 700, 1000, 1500, 2000, 4000, ...])\n",
    "\n",
    "# Run the model for each of these, then make an array of peak_warming values\n",
    "peak_warming = np.array([temp1, temp2, temp3, ... etc])\n",
    "```"
   ]
  },
  {
   "cell_type": "code",
   "execution_count": null,
   "metadata": {},
   "outputs": [],
   "source": []
  },
  {
   "cell_type": "code",
   "execution_count": null,
   "metadata": {},
   "outputs": [],
   "source": []
  },
  {
   "cell_type": "code",
   "execution_count": null,
   "metadata": {},
   "outputs": [],
   "source": []
  },
  {
   "cell_type": "markdown",
   "metadata": {},
   "source": [
    "## Vary the free parameters in the model, how does the temperature respond?\n",
    "\n",
    "What effect on the temperature response is made by varying the equilibrium climate sensitivity (ECS), transient climate response (TCR), the ocean mixed layer response time scale and the deep ocean response time scale? Can you explain why? What physical phenomena affect these parameters for the real Earth?\n",
    " \n",
    "  - These are labelled `ECS`, `TCR`, `tau_s` and `tau_d` in the model code! Look near the top :)"
   ]
  },
  {
   "cell_type": "code",
   "execution_count": null,
   "metadata": {},
   "outputs": [],
   "source": []
  },
  {
   "cell_type": "code",
   "execution_count": null,
   "metadata": {},
   "outputs": [],
   "source": []
  },
  {
   "cell_type": "markdown",
   "metadata": {},
   "source": [
    "## Scenario 2: Response of global-mean temperature to a step-change in CO2 concentrations\n",
    "\n",
    "Make sure the model is set to simulate the step-up scenario (with `concentrations = concentrations_ramp`). \n",
    "\n",
    " - Again, what effect on the temperature response is made by varying the equilibrium climate sensitivity (ECS), transient climate response (TCR), the ocean mixed layer response time scale and the deep ocean response time scale? \n",
    " \n",
    " - Which have the greatest effect on the long term and short term climate response?"
   ]
  },
  {
   "cell_type": "code",
   "execution_count": null,
   "metadata": {},
   "outputs": [],
   "source": []
  },
  {
   "cell_type": "code",
   "execution_count": null,
   "metadata": {},
   "outputs": [],
   "source": []
  },
  {
   "cell_type": "code",
   "execution_count": null,
   "metadata": {},
   "outputs": [],
   "source": []
  }
 ],
 "metadata": {
  "kernelspec": {
   "display_name": "dtp_2021",
   "language": "python",
   "name": "dtp_2021"
  },
  "language_info": {
   "codemirror_mode": {
    "name": "ipython",
    "version": 3
   },
   "file_extension": ".py",
   "mimetype": "text/x-python",
   "name": "python",
   "nbconvert_exporter": "python",
   "pygments_lexer": "ipython3",
   "version": "3.7.9"
  }
 },
 "nbformat": 4,
 "nbformat_minor": 4
}
