{
 "cells": [
  {
   "cell_type": "markdown",
   "metadata": {},
   "source": [
    "# 2: Impact of aerosols and volcanic eruptions on climate\n",
    "### PCS Day 2, Jan. 2021\n",
    "\n",
    "# Overview:\n",
    "\n",
    "So, now we've got a sense of how the climate system responds to a step-change of CO$_{2}$ and a steady \"ramp-up\" scenario (not unlike what we are experiencing now!), but in reality there is more to the atmosphere than just CO$_{2}$ concentrations!\n",
    "\n",
    "As we have seen in Philip and David's lectures earlier, both **human activity and volcanic eruptions** can have a marked **cooling effect** on the climate, by releasing **aerosols** into the atmosphere. (Aerosols are tiny particles of dust and pollution.) \n",
    "\n",
    "These aerosols scatter incoming solar radiation, causing a global *dimming effect* which can cool the planet and offset some of the warming caused by increased GHGs.\n",
    "\n",
    "This constitutes a short-lived, *negative*, radiative forcing.\n",
    "\n",
    "In this exercise, we will use the `FaIR` model to investigate how the climate responds to these negative radiative forcing changes, and understand how they counteract some of the short-term impacts of CO$_{2}$."
   ]
  },
  {
   "cell_type": "markdown",
   "metadata": {},
   "source": [
    "## Basic imports\n",
    "\n",
    "- **Numpy** is a library built on top of C which allows you to perform rapid numerical calculations in Python and generate/manipulate arrays and matrices in a similar way to in MATLAB. <br>\n",
    "\n",
    "\n",
    "- **Matplotlib** is the canonical plotting package in Python; as you might have guessed by the name, it's basically an open-source version of MATLAB's plotting functions. <br>\n",
    "    - The '%matplotlib inline' comment just allows normal plotting within the Jupyter notebooks"
   ]
  },
  {
   "cell_type": "code",
   "execution_count": 1,
   "metadata": {},
   "outputs": [],
   "source": [
    "%matplotlib inline"
   ]
  },
  {
   "cell_type": "code",
   "execution_count": 2,
   "metadata": {},
   "outputs": [],
   "source": [
    "# Basic imports\n",
    "import numpy as np\n",
    "from matplotlib import pyplot as plt"
   ]
  },
  {
   "cell_type": "code",
   "execution_count": null,
   "metadata": {},
   "outputs": [],
   "source": [
    "import fair\n",
    "\n",
    "# Check we're using v1.6.1 \n",
    "print(f\"We're using FaIR version {fair.__version__}\") \n",
    "\n",
    "# The \"engine\" of fair is fair_scm, stored in the fair.forward class\n",
    "from fair.forward import fair_scm"
   ]
  },
  {
   "cell_type": "markdown",
   "metadata": {},
   "source": [
    "# Model set up"
   ]
  },
  {
   "cell_type": "code",
   "execution_count": null,
   "metadata": {},
   "outputs": [],
   "source": [
    "\"\"\"Set key model parameters\"\"\"\n",
    "\n",
    "#Default model parameters, allowing curves corresponding to this model to be plotted for comparison - there's \n",
    "#no need to change these unless you want to compare the results using the parameters you set above to a \n",
    "#different model.\n",
    "ECS_def = 2.7     # equilibrium climate sensitivity (K), default=2.7K\n",
    "TCR_def = 1.6     # transient climate response (K), default=1.6K\n",
    "tau_s_def = 4.1   # ocean mixed layer response time scale (years), default=4.1yrs\n",
    "tau_d_def = 239.0 # deep ocean response time scale (years), default=239.0yrs\n",
    "\n",
    "# Alterable parameters\n",
    "ECS = 2.7         # equilibrium climate sensitivity (K), default=2.7K\n",
    "TCR = 1.6         # transient climate response (K), default=1.6K\n",
    "tau_s = 4.1       # ocean mixed layer response time scale (years), default=4.1yrs\n",
    "tau_d = 239.0     # deep ocean response time scale (years), default=239.0yrs\n",
    "\n",
    "\n",
    "# How long do we want to run for?\n",
    "nyears = 300\n",
    "\n",
    "# Create time axis\n",
    "years=np.arange(nyears)\n",
    "\n",
    "\n",
    "\n",
    "\"\"\" Generate negative forcing time-series \"\"\"\n",
    "forcing = np.zeros(nyears)\n",
    "\n",
    "# In year 5, set forcing equal to a constant, negative value for 10 years\n",
    "fval = -1\n",
    "duration = 10\n",
    "\n",
    "forcing[np.where(np.logical_and(years>5, years<5+duration+1))] = fval\n",
    "\n",
    "\n",
    "\n",
    "\"\"\" Run the simple climate model \"\"\"\n",
    "# Outputs are concentrations (C), forcing(F) and temperature change(T)\n",
    "\n",
    "# Run with default parameters\n",
    "_,F_def,T_def = fair_scm(\n",
    "    emissions=False,                     # Just drive the model using radiative forcing\n",
    "    other_rf = forcing,                  # Input time-series of radiative forcing\n",
    "    useMultigas=False,                   \n",
    "    tcrecs=np.array([TCR_def, ECS_def]),\n",
    "    d=np.array([tau_d_def, tau_s_def]))\n",
    "\n",
    "# Run again with altered parameters \n",
    "_,F,T = fair_scm(\n",
    "    emissions=False,                      # Just drive the model using radiative forcing\n",
    "    other_rf = forcing,                   # Input time-series of radiative forcing\n",
    "    useMultigas=False,                   \n",
    "    tcrecs=np.array([TCR, ECS]),\n",
    "    d=np.array([tau_d, tau_s]))\n",
    "\n",
    "\n",
    "\n",
    "\n",
    "\"\"\" Print key outputs \"\"\"\n",
    "print('Lowest T = {:.2f} (K)'.format(np.min(T)))\n",
    "print(r'Ratio of T to forcing = {:.2f}'.format(np.min(T)/fval))\n",
    "\n",
    "\n",
    "\n",
    "\"\"\" Plot the output \"\"\"\n",
    "fig,axs = plt.subplots(ncols=2, dpi=150, figsize=(10,3))\n",
    "\n",
    "axs[0].plot(years, F, color='orange')\n",
    "axs[0].set_ylabel(\"Radiative Forcing (W m$^{-2}$)\")\n",
    "axs[0].set_xlabel(\"Years\")\n",
    "\n",
    "axs[1].plot(years, T, color='red', label='altered parameters')\n",
    "axs[1].plot(years, T_def, color='red', linestyle='--', label='default parameters')\n",
    "axs[1].set_ylabel(\"Temperature Anomaly (K)\")\n",
    "axs[1].set_xlabel(\"Years\")\n",
    "\n",
    "axs[1].legend()\n",
    "\n",
    "fig.tight_layout() # Cleans up the labels so they don't overlap"
   ]
  },
  {
   "cell_type": "markdown",
   "metadata": {},
   "source": [
    "# A few things to try\n",
    "\n",
    " - Vary the strength and duration of the radiative forcing perturbation, what do you notice about the response of the radiative forcing and temperature changes? How is this different from the GHG response?\n",
    "\n",
    " - What is the ratio of temperature change to radiative forcing? Does it always hold? Is this correct? "
   ]
  },
  {
   "cell_type": "code",
   "execution_count": null,
   "metadata": {},
   "outputs": [],
   "source": []
  },
  {
   "cell_type": "code",
   "execution_count": null,
   "metadata": {},
   "outputs": [],
   "source": []
  },
  {
   "cell_type": "code",
   "execution_count": null,
   "metadata": {},
   "outputs": [],
   "source": []
  },
  {
   "cell_type": "markdown",
   "metadata": {},
   "source": [
    "## What happens if you change the parameters?\n",
    "\n",
    " - What effect on the temperature response is made by varying the equilibrium climate sensitivity (ECS), transient climate response (TCR), the ocean mixed layer response time scale and the deep ocean response time scale? \n",
    " \n",
    "  - These are labelled `ECS`, `TCR`, `tau_s` and `tau_d` in the model code! Look near the top :) \n",
    "  \n",
    "  \n",
    " - In the GHG-dominated case, all of these parameters mattered, what about now?\n"
   ]
  },
  {
   "cell_type": "code",
   "execution_count": null,
   "metadata": {},
   "outputs": [],
   "source": []
  },
  {
   "cell_type": "code",
   "execution_count": null,
   "metadata": {},
   "outputs": [],
   "source": []
  },
  {
   "cell_type": "code",
   "execution_count": null,
   "metadata": {},
   "outputs": [],
   "source": []
  },
  {
   "cell_type": "markdown",
   "metadata": {},
   "source": [
    "# Does this make you more of less confident in the prospects for geoengineering?"
   ]
  },
  {
   "cell_type": "code",
   "execution_count": null,
   "metadata": {},
   "outputs": [],
   "source": []
  },
  {
   "cell_type": "code",
   "execution_count": null,
   "metadata": {},
   "outputs": [],
   "source": []
  }
 ],
 "metadata": {
  "kernelspec": {
   "display_name": "basic_new",
   "language": "python",
   "name": "basic_new"
  },
  "language_info": {
   "codemirror_mode": {
    "name": "ipython",
    "version": 3
   },
   "file_extension": ".py",
   "mimetype": "text/x-python",
   "name": "python",
   "nbconvert_exporter": "python",
   "pygments_lexer": "ipython3",
   "version": "3.6.12"
  }
 },
 "nbformat": 4,
 "nbformat_minor": 4
}
