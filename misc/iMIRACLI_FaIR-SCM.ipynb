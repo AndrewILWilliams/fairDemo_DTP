{
 "cells": [
  {
   "cell_type": "markdown",
   "metadata": {},
   "source": [
    "# FaIR Model v1.6\n",
    "## - Demo notebook: Sept. 2020\n",
    "\n",
    "\n",
    "The Finite Amplitude Impulse Response (FaIR) model is a simple emissions-based, globally-averaged climate model. It allows the user to input emissions of greenhouse gases and short lived climate forcers in order to estimate global mean **atmospheric GHG concentrations**, **radiative forcing** and **temperature anomalies**. </br>\n",
    "\n",
    "Read the docs: https://readthedocs.org/projects/fair/downloads/pdf/latest/\n",
    "\n"
   ]
  },
  {
   "cell_type": "markdown",
   "metadata": {},
   "source": [
    "## Basic imports\n",
    "\n",
    "- **Numpy** is a library built on top of C which allows you to perform rapid numerical calculations in Python and generate/manipulate arrays and matrices in a similar way to in MATLAB. <br>\n",
    "\n",
    "\n",
    "- **Matplotlib** is the canonical plotting package in Python; as you might have guessed by the name, it's basically an open-source version of MATLAB's plotting functions. <br>\n",
    "    - The '%matplotlib inline' comment just allows normal plotting within the Jupyter notebooks"
   ]
  },
  {
   "cell_type": "code",
   "execution_count": null,
   "metadata": {},
   "outputs": [],
   "source": [
    "%matplotlib inline\n",
    "import numpy as np\n",
    "import matplotlib.pyplot as plt"
   ]
  },
  {
   "cell_type": "code",
   "execution_count": null,
   "metadata": {},
   "outputs": [],
   "source": [
    "import fair\n",
    "\n",
    "# Check we're using v1.6.0c0 \n",
    "print(f\"We're using FaIR version {fair.__version__}\") \n",
    "\n",
    "# The \"engine\" of fair is fair_scm, stored in the fair.forward class\n",
    "from fair.forward import fair_scm"
   ]
  },
  {
   "cell_type": "markdown",
   "metadata": {},
   "source": [
    "## Workflow\n",
    "\n",
    "The general workflow for using the FaIR model is actually quite straightforward once you get set up:\n",
    "\n",
    " - Specify the emissions timeseries going into `fair_scm`. <br>\n",
    " - Choose the settings (`useMultigas=True/False` etc). <br>\n",
    "     - If running with multiple emissions sources, then the emissions input is multidimensional, and we set `useMultigas=True`. <br>\n",
    " - Run the model. <br>\n",
    " - Plot! <br>\n",
    " \n",
    "The output from FaIR is a 3-tuple of (C, F, T) arrays. In CO2-only mode, both C (representing CO2 concentrations in ppm) and F (total effective radiative forcing in W m-2) are 1D arrays. T (temperature change since the pre-industrial) is always output as a 1D array."
   ]
  },
  {
   "cell_type": "markdown",
   "metadata": {},
   "source": [
    "# Basic Example run - CO2 only\n",
    "\n",
    "Let's try a basic run where we only vary CO2 emissions! Aside from this, there will be no external forcing (no volcanic etc) and also no other emission sources (no other GHGs/aerosols etc).\n",
    "\n",
    "### Step 1: Set up idealised emissions time-series\n",
    "\n",
    "To start with, lets see how our simple climate model responds to an instantaneous \"pulse\" of carbon / **C0$_{2}$**! </br>\n",
    "\n",
    "To do this, let's create an emissions timeseries 100 years long, and inject a 100 GtC/yr pulse of carbon a couple of years in."
   ]
  },
  {
   "cell_type": "code",
   "execution_count": null,
   "metadata": {},
   "outputs": [],
   "source": [
    "co2_emissions     = np.zeros(100)\n",
    "co2_emissions[10] = 100 # GtC/yr"
   ]
  },
  {
   "cell_type": "markdown",
   "metadata": {},
   "source": [
    "### Step 2: Now, run the model!\n",
    "\n",
    "The outputs are: \n",
    "\n",
    "`C`: Concentrations </br>\n",
    "`F`: Effective Radiative forcing</br>\n",
    "`T`: Temp anomaly</br>\n",
    " \n",
    "Additionally, the model outputs some other parameters related to feedbacks and the ocean response (`lambda_eff`, `ohc`, `heatflux`). </br>\n",
    "However, we don't need these, so just ignore them for now :)\n",
    " "
   ]
  },
  {
   "cell_type": "code",
   "execution_count": null,
   "metadata": {},
   "outputs": [],
   "source": [
    "# Now, run the model!\n",
    "\n",
    "C, F, T, _,_,_ = fair_scm(\n",
    "    emissions=co2_emissions,\n",
    "    temperature_function='Geoffroy',\n",
    "    useMultigas=False\n",
    ")"
   ]
  },
  {
   "cell_type": "markdown",
   "metadata": {},
   "source": [
    "### Step 3: Plot!"
   ]
  },
  {
   "cell_type": "code",
   "execution_count": null,
   "metadata": {},
   "outputs": [],
   "source": [
    "# --- Plot the output! ---\n",
    "fig, axs = plt.subplots(ncols=2, nrows=2, dpi=100, figsize=(10,5))\n",
    "\n",
    "# Create time axis\n",
    "time = np.arange(0, co2_emissions.size)\n",
    "\n",
    "# Emissions\n",
    "axs[0,0].plot(time, co2_emissions, color='black')\n",
    "axs[0,0].set_ylabel(r'CO$_{2}$ emissions (GtC yr$^{-1}$)')\n",
    "\n",
    "# Concentrations\n",
    "axs[0,1].plot(time, C, color='blue')\n",
    "axs[0,1].set_ylabel(r'CO$_2$ concentrations (ppm)')\n",
    "\n",
    "# Radiative Forcing\n",
    "axs[1,0].plot(time, F, color='orange')\n",
    "axs[1,0].set_ylabel(r'Radiative forcing (W m$^{-2}$)')\n",
    "\n",
    "# Temperature Anomaly \n",
    "axs[1,1].plot(time, T, color='red')\n",
    "axs[1,1].set_ylabel('Temperature anomaly (K)')\n",
    "\n",
    "fig.tight_layout() # Cleans up the labels so they don't overlap"
   ]
  },
  {
   "cell_type": "markdown",
   "metadata": {},
   "source": [
    "## Exercise #1\n",
    "\n",
    "1) Extend the length of the emissions timeseries and re-run the model. What fraction of the emitted CO2 remains in the atmosphere after 10, 100 and 250 years (approximately)?\n",
    "\n",
    "2) How do the shapes of the CO2 concentration and warming curves change as the duration of the pulse is increased?"
   ]
  },
  {
   "cell_type": "markdown",
   "metadata": {},
   "source": [
    " Put"
   ]
  },
  {
   "cell_type": "markdown",
   "metadata": {},
   "source": [
    " Answers"
   ]
  },
  {
   "cell_type": "markdown",
   "metadata": {},
   "source": [
    " Here"
   ]
  },
  {
   "cell_type": "markdown",
   "metadata": {},
   "source": [
    "#### Now, a few things are instantly clear from this.\n",
    "\n",
    "1) Even a single, 1-year pulse of CO$_{2}$ has a big influence!</br>\n",
    " - CO$_{2}$ concentrations and their radiative forcing perturbation can hang around and affect temperatures for centuries! </br>\n",
    " \n",
    "2) The temperature response to forcing is mediated by **two, distinct timescales**:</br>\n",
    " - There's a *fast response*, which is related to the adjustment time of the atmosphere and ocean mixed-layer. </br>\n",
    " - And there's also a *slow response*, which is related - you guessed it! - to the much slower adjustment time of the deep ocean. </br> \n",
    " \n",
    "This is because the deep ocean has an \"effective\" heat capacity of $\\sim \\mathcal{100-150} \\text{ W yr m}^{-2} \\text{K}^{-1}$, whereas the effective heat capacity of the upper ocean/atmosphere is closer to $\\sim \\mathcal{7-8} \\text{ W yr m}^{-2} \\text{K}^{-1}$"
   ]
  },
  {
   "cell_type": "markdown",
   "metadata": {},
   "source": [
    "## Exercise #2\n",
    "\n",
    "Now, let's test how sensitive the previous results are to changes in these two \"effective\" ocean heat capacities!\n",
    "\n",
    "To do this, we can add the `ocean_heat_capacity` argument to our `fair_scm` call. This has to be a 2-element array where the elements refer to the upper and deep ocean heat capacities, respectively. The default values are shown below.\n",
    "\n",
    "\n",
    "```python\n",
    "C_new, F_new, T_new, _,_,_ = fair_scm(\n",
    "    emissions=co2_emissions,\n",
    "    temperature_function='Geoffroy',\n",
    "    useMultigas=False,\n",
    "    ocean_heat_capacity=np.array([8.2, 109.0]), # Default values in [W yr m^-2 K^-1]\n",
    ")\n",
    "```\n",
    "\n",
    "**Have a think: What physical phenomena affect these parameters for the real Earth?**"
   ]
  },
  {
   "cell_type": "markdown",
   "metadata": {},
   "source": [
    "#### Answers below..."
   ]
  },
  {
   "cell_type": "code",
   "execution_count": null,
   "metadata": {},
   "outputs": [],
   "source": [
    "co2_emissions     = np.zeros(100)\n",
    "co2_emissions[10] = 100 # GtC/yr\n",
    "\n",
    "# Now, run the model!\n",
    "C, F, T, _,_,_ = fair_scm(\n",
    "    emissions=co2_emissions,\n",
    "    temperature_function='Geoffroy',\n",
    "    useMultigas=False\n",
    ")\n",
    "\n",
    "Cshort, Fshort, Tshort, _,_,_ = fair_scm(\n",
    "    emissions=co2_emissions,\n",
    "    temperature_function='Geoffroy',\n",
    "    useMultigas=False,\n",
    "    ocean_heat_capacity=np.array([8.2*2, 109.0]),\n",
    ")\n",
    "\n",
    "Clong, Flong, Tlong, _,_,_ = fair_scm(\n",
    "    emissions=co2_emissions,\n",
    "    temperature_function='Geoffroy',\n",
    "    useMultigas=False,\n",
    "    ocean_heat_capacity=np.array([8.2, 109.0*2]),\n",
    ")"
   ]
  },
  {
   "cell_type": "code",
   "execution_count": null,
   "metadata": {},
   "outputs": [],
   "source": [
    "# --- Plot the output! ---\n",
    "fig, axs = plt.subplots(ncols=2, nrows=2, dpi=100, figsize=(10,5))\n",
    "\n",
    "# Create time axis\n",
    "time = np.arange(0, co2_emissions.size)\n",
    "\n",
    "# Emissions\n",
    "axs[0,0].plot(time, co2_emissions, color='black')\n",
    "axs[0,0].set_ylabel(r'CO$_{2}$ emissions (GtC yr$^{-1}$)')\n",
    "\n",
    "# Concentrations\n",
    "axs[0,1].plot(time, C, color='blue')\n",
    "axs[0,1].plot(time, Cshort, linestyle='--', color='blue')\n",
    "axs[0,1].plot(time, Clong, linestyle='--', color='blue')\n",
    "\n",
    "axs[0,1].set_ylabel('CO$_2$ concentrations (ppm)')\n",
    "\n",
    "# Radiative Forcing\n",
    "axs[1,0].plot(time, F, color='orange')\n",
    "axs[1,0].plot(time, Fshort, linestyle='--', color='orange')\n",
    "axs[1,0].plot(time, Flong, linestyle='--', color='orange')\n",
    "\n",
    "axs[1,0].set_ylabel('Radiative forcing (W m$^{-2}$)')\n",
    "\n",
    "# Temperature Anomaly \n",
    "axs[1,1].plot(time, T, color='red', label=r'HeatCapacity$_{\\mathrm{defaults}}$')\n",
    "axs[1,1].plot(time, Tshort, linestyle=':', color='green', label=r'HeatCapacity$_{\\mathrm{upper}}$x2')\n",
    "axs[1,1].plot(time, Tlong, linestyle='-.', color='green', label=r'HeatCapacity$_{\\mathrm{deep}}}$x2')\n",
    "\n",
    "axs[1,1].set_ylabel('Temperature anomaly (K)')\n",
    "\n",
    "axs[1,1].legend(loc='best')\n",
    "\n",
    "fig.tight_layout() # Cleans up the labels so they don't overlap"
   ]
  },
  {
   "cell_type": "code",
   "execution_count": null,
   "metadata": {},
   "outputs": [],
   "source": []
  },
  {
   "cell_type": "markdown",
   "metadata": {},
   "source": [
    "# Climate Feedbacks and Uncertainty\n",
    "\n",
    "Many aspects of the climate system change as we increase CO$_{2}$ and raise temperature, these are called \"feedbacks\". </br> \n",
    "\n",
    "The basic idea is that the net radiative imbalance ($\\Delta \\mathrm{R}$) due to different components of the climate changes *with* global warming. </br>  \n",
    "\n",
    " > Recall from Johannes' and Philip's lecture: $\\Delta \\mathrm{R}(t) = \\mathcal{E} - \\lambda \\Delta \\mathrm{T}_{\\mathrm{s}}(t)$ </br>\n",
    " \n",
    " > Therefore, for a given radiative forcing the temperature change at equilibrium (i.e. $\\Delta \\mathrm{R}=0$) is given by: $T_{eq} = \\frac{\\mathcal{E}}{\\lambda}$ \n",
    " \n",
    " > So, a \"large\" $\\lambda$ means the temperature response of the climate to forcing is low, whereas a \"small\" $\\lambda$ means the climate is *very sensitive* to forcing.\n",
    "\n",
    "**For example:** </br>\n",
    "\n",
    " - 1) **The \"Planck\" feedback:** As the temperature increases, the emission of infrared radiation back into space increases proportional to $\\sim \\, T_{earth}^{4}$. This increases the amount of outgoing radiation as the Earth warms. **--> \"Positive\" feedback**\n",
    " \n",
    " - 2) **Snow and sea-ice cover**: Intuitively, snow and ice cover decreases with warming, and this reduces the reflectivity of the Earth (the *albedo*). This then reduces the amount of radiation emitted to space. **--> \"Negative\" feedback**\n",
    " \n",
    " - 3) **Low cloud changes**: How low-level clouds respond to climate changes is *very* uncertain, but currently we expect that tropical low clouds will become slightly less reflective as the planet warms, amplifying the warming. **--> \"Positive\" feedback** </br>\n",
    " \n",
    "### Results from CMIP5 and CMIP6 models\n",
    "Mathematically, for an individual component of the climate system, we can write the \"feedback parameter\", $\\lambda$, as its derivative of forcing with respect to temperature, measured in $[\\text{W} \\, \\text{m}^{-2} \\, \\text{K}^{-1}]$: </br>\n",
    "\n",
    "$$\\boxed{\\lambda_{component} = \\frac{d \\Delta R_{component}}{d T_{s}}}$$ </br>\n",
    "\n",
    "The latest results from the CMIP5 and CMIP6 models (Zelinka et al. 2020, below - *note the reversed sign*) suggest a total feedback parameter of $\\boxed{\\lambda_{global} = \\sum_{i} \\lambda_{i} = 1.13 \\pm 0.28 \\, [\\text{W} \\, \\text{m}^{-2} \\, \\text{K}^{-1}]}$.\n",
    "\n",
    "<center>\n",
    "<img src=\"./Figs/zelinka_feedback_decomp.jpg\" width=\"800\"/>\n",
    "</center> </br>\n",
    "\n",
    "**However the uncertainty is mostly dominated by model disagreement over the shortwave cloud feedback.**"
   ]
  },
  {
   "cell_type": "markdown",
   "metadata": {},
   "source": [
    "## Question:\n",
    "\n",
    "#### 1) What other feedbacks can you think of which might increase uncertainty?"
   ]
  },
  {
   "cell_type": "markdown",
   "metadata": {},
   "source": [
    "#### 2) For a simple pulse injection of $\\mathrm{CO}_{2}$, what range of temperatures can you get by changing the `lambda_global` argument?\n",
    "\n",
    "For example:\n",
    "\n",
    "```python\n",
    "C, F, T_lambda, _,_,_ = fair_scm(\n",
    "    emissions=co2_emissions,\n",
    "    temperature_function='Geoffroy',\n",
    "    useMultigas=False,\n",
    "    lambda_global = 5, # CMIP5 range: 1.18 ± 0.31\n",
    ")\n",
    "```\n",
    "\n",
    "Can you explain the results you get?"
   ]
  },
  {
   "cell_type": "code",
   "execution_count": null,
   "metadata": {},
   "outputs": [],
   "source": [
    "\"\"\" --- Answers BELOW --- \"\"\"\n",
    "# Can also use the F2x argument to change the forcing\n",
    "# CMIP5 range: F2x = 3.7 ± 0.9 \n",
    "\n",
    "C3, F3, T3, _,_,_ = fair_scm(\n",
    "    emissions=co2_emissions,\n",
    "    temperature_function='Geoffroy',\n",
    "    useMultigas=False,\n",
    "    lambda_global = 1.13, # 1.18 ± 0.31\n",
    "    F2x=3.44, # 3.7 ± 0.9 \n",
    "    ocean_heat_capacity=np.array([8.2, 109.0]),\n",
    ")\n",
    "\n",
    "C4, F4, T4, _,_,_ = fair_scm(\n",
    "    emissions=co2_emissions,\n",
    "    temperature_function='Geoffroy',\n",
    "    useMultigas=False,\n",
    "    lambda_global = 1.13+0.28, # CMIP5: 1.13 ± 0.28 \n",
    "    F2x=3.44, # CMIP5: 3.44 ± 0.48 W m-2\n",
    "    ocean_heat_capacity=np.array([8.2, 109.0]),\n",
    ")\n",
    "\n",
    "C5, F5, T5, _,_,_ = fair_scm(\n",
    "    emissions=co2_emissions,\n",
    "    temperature_function='Geoffroy',\n",
    "    useMultigas=False,\n",
    "    lambda_global = 1.13-0.28, # 1.18 ± 0.31\n",
    "    F2x=3.44, # 3.7 ± 0.9 \n",
    "    ocean_heat_capacity=np.array([8.2, 109.0]),\n",
    ")\n",
    "\n",
    "# Make a list of the different outputs\n",
    "Concs    = [C3, C4, C5]\n",
    "Forcings = [F3, F4, F5]\n",
    "Temps    = [T3, T4, T5]"
   ]
  },
  {
   "cell_type": "code",
   "execution_count": null,
   "metadata": {},
   "outputs": [],
   "source": [
    "# --- Plot the output! ---\n",
    "fig, axs = plt.subplots(ncols=2, nrows=2, dpi=100, figsize=(10,5))\n",
    "\n",
    "# Create time axis\n",
    "time = np.arange(0, co2_emissions.size)\n",
    "\n",
    "# Emissions\n",
    "axs[0,0].plot(time, co2_emissions, color='black')\n",
    "axs[0,0].set_ylabel(r'CO$_{2}$ emissions (GtC yr$^{-1}$)')\n",
    "\n",
    "# Concentrations\n",
    "for c in Concs:\n",
    "    axs[0,1].plot(time, c, color='blue')\n",
    "axs[0,1].set_ylabel('CO$_2$ concentrations (ppm)')\n",
    "\n",
    "# Radiative Forcing\n",
    "for f in Forcings:\n",
    "    axs[1,0].plot(time, f, color='orange')\n",
    "axs[1,0].set_ylabel('Radiative forcing (W m$^{-2}$)')\n",
    "\n",
    "# Temperature Anomaly \n",
    "label = ['1.13', '1.41', '0.85']\n",
    "styles= ['--', '-.', ':']\n",
    "for idx, t in enumerate(Temps):\n",
    "    axs[1,1].plot(time, t, color='red', linestyle=styles[idx], label=fr\"$\\lambda$ = {label[idx]}\")\n",
    "axs[1,1].set_ylabel('Temperature anomaly (K)')\n",
    "axs[1,1].legend()\n",
    "\n",
    "fig.tight_layout() # Cleans up the labels so they don't overlap"
   ]
  },
  {
   "cell_type": "markdown",
   "metadata": {},
   "source": [
    "# What's next? - Aerosols and other multiple forcing scenarios\n",
    "\n",
    "So, now we've got a sense of how the climate system responds to a simple pulse of **CO$_{2}$**, but in reality the atmosphere is composed of multiple different gases and forcing agents. (E.g. Methane, Sulphate/Black Carbon aerosols, CFCs etc) </br>\n",
    "\n",
    "Luckily, we can include these in `FaIR` using the `useMultigas=True` option!"
   ]
  },
  {
   "cell_type": "markdown",
   "metadata": {},
   "source": [
    "#### Workflow changes\n",
    "\n",
    "This time the emissions input is a `(nt, 40)` array, with the 40 different columns corresponding to different forcing agents. See [this page](https://fair.readthedocs.io/en/latest/examples.html#emissions) for a list of what each column corresponds to. </br></br>\n",
    "\n",
    "**Example: Setting up a custom emissions array**\n",
    "\n",
    "```python\n",
    "emissions = np.zeros((150, 40))\n",
    "\n",
    "# Column 0 is the years!\n",
    "emissions[:,0] = np.arange(1850, 2000) # 1850,1851,...\n",
    "\n",
    "# Column 1 is the CO2, in GtC/yr\n",
    "emissions[:,1] = 10 \n",
    "\n",
    "# Add some methane to column 3, in Mt/yr\n",
    "emissions[:,3] = 300.\n",
    "\n",
    "# aerosols, Mt/yr\n",
    "emissions[:,5] = 0.1*np.arange(150)   # SOx\n",
    "emissions[:,9] = 6.    # BC\n",
    "\n",
    "# And so on...\n",
    "```"
   ]
  },
  {
   "cell_type": "markdown",
   "metadata": {},
   "source": [
    "### Example: A pulse injection of sulphur oxides ($\\mathrm{SO}_{\\mathrm{x}}$)\n",
    "\n",
    "Sulphur oxides (eg. $\\mathrm{SO}_{\\mathrm{2}}$) are the main precursors of **sulphate aerosol**, so what we're really doing here is injecting a short pulse of aerosol into our idealized \"climate\".</br>\n",
    "\n",
    "These aerosols scatter incoming solar radiation, causing a *global dimming* effect which can cool the planet and offset some of the warming caused by increased GHGs.</br>\n",
    "\n",
    "**N.B.** The `aerosol_forcing=\"stevens\"` argument means that `FaIR` is using the *very* simple aerosol radiative forcing parameterization we introduced before.</br>"
   ]
  },
  {
   "cell_type": "code",
   "execution_count": null,
   "metadata": {},
   "outputs": [],
   "source": [
    "\"\"\"Set up emissions time series\"\"\"\n",
    "emissions_pulse = np.zeros((300, 40)) \n",
    "\n",
    "# Column 0 is year.\n",
    "emissions_pulse[:,0] = np.arange(1850,2150)    \n",
    "\n",
    "# Column 5 is SOX emissions, Mt/yr\n",
    "# Inject 100 Mt pulses in years 100-110\n",
    "emissions_pulse[:,5][100:110] = 100.     \n",
    "    \n",
    "\"\"\" Scale all other forcings to zero except aerosol \"\"\"\n",
    "scale = np.zeros(13) # all other forcing (methane etc) = 0\n",
    "scale[8] = 1. # aerosol forcing = 1\n",
    "\n",
    "\"\"\" Run model \"\"\"\n",
    "C_pulse,F_pulse,T_pulse,_,_,_ = fair_scm(emissions_pulse,\n",
    "                                        temperature_function='Geoffroy',\n",
    "                                        natural=np.array([209.2492,11.1555]), # natural emissions of CH4 and N2O\n",
    "                                        aerosol_forcing=\"stevens\",            # use simple parameterization from Stevens (2015)\n",
    "                                        scale=scale,                          # ignore all non-aerosol forcings\n",
    "                                        F_volcanic=0,                         # turn volcanic forcing off\n",
    "                                        F_solar=0,                            # turn solar forcing off\n",
    "                                        )\n"
   ]
  },
  {
   "cell_type": "code",
   "execution_count": null,
   "metadata": {},
   "outputs": [],
   "source": [
    "\"\"\" --- Plot the output! --- \"\"\"\n",
    "\n",
    "fig, ax = plt.subplots(ncols=3, dpi=200, figsize=(20, 4))\n",
    "\n",
    "# Plot \n",
    "ax[0].plot(emissions_pulse[:,0], emissions_pulse[:,5], color='black')\n",
    "ax[0].set_ylabel(r\"$\\mathrm{SO}_{\\mathrm{x}}$ emissions [ Mt / yr ]\")\n",
    "\n",
    "\n",
    "ax[1].plot(emissions_pulse[:,0], F_pulse[:,8], color='orange')\n",
    "ax[1].set_ylabel(r\"Aerosol radiative forcing [W m$^{-2}$ K$^{-1}$]\")\n",
    "\n",
    "ax[2].plot(emissions_pulse[:,0], T_pulse, color='red')\n",
    "ax[2].set_ylabel(r\"Temperature change [K]\")\n"
   ]
  },
  {
   "cell_type": "markdown",
   "metadata": {},
   "source": [
    "What do you notice about the response of the radiative forcing and temperature changes? How is this different from the GHG response? </br>"
   ]
  },
  {
   "cell_type": "markdown",
   "metadata": {},
   "source": [
    "1) Timescales?\n",
    " - How long does this last?"
   ]
  },
  {
   "cell_type": "markdown",
   "metadata": {},
   "source": [
    "2) Temperature change?\n",
    "\n",
    " - How does the size of the temperature perturbation compare with a similar magnitude GHG injection?"
   ]
  },
  {
   "cell_type": "markdown",
   "metadata": {},
   "source": [
    "# Did someone say \"geo-engineering\"?! \n",
    "### - How much sulphate injection do you require to offset a single pulse-injection of $\\mathrm{CO}_{\\mathrm{2}}$?\n",
    "\n",
    "- **Set up another emissions timeseries like in the above example, but this time also include a 100 $\\mathrm{GtC}$ $\\mathrm{ yr}^{-1}$ pulse of carbon a couple of decades in.** </br>\n",
    "Remember this line from before...\n",
    "```python\n",
    "# Column 1 is CO2, GtC/yr. \n",
    "emissions[:,1][20] = 100  \n",
    "```\n",
    "</br>\n",
    "\n",
    "- **In 1950, add a pulse of sulphate aerosol precursor ($\\mathrm{SO}_{\\mathrm{x}}$).**"
   ]
  },
  {
   "cell_type": "markdown",
   "metadata": {},
   "source": [
    "### (1) How much $\\mathrm{SO}_{\\mathrm{x}}$ is required to offset the warming from the initial GHG pulse? How long does this last for? </br>"
   ]
  },
  {
   "cell_type": "code",
   "execution_count": null,
   "metadata": {},
   "outputs": [],
   "source": [
    "\"\"\"Set up emissions time series\"\"\"\n",
    "emissions = np.zeros((300, 40)) \n",
    "\n",
    "# Column 0 is year.\n",
    "emissions[:,0] = np.arange(1850,2150)    \n",
    "\n",
    "# Column 1 is CO2, GtC/yr. \n",
    "emissions[:,1][20] = 100   \n",
    "\n",
    "# Column 5 is SOX emissions, Mt/yr\n",
    "# Inject a 100 Mt pulses in years 100-110\n",
    "emissions[:,5][100] = 100.     \n",
    "    \n",
    "\"\"\" Scale all other forcings to zero except aerosol \"\"\"\n",
    "scale = np.zeros(13) # all other forcing (methane etc) = 0\n",
    "scale[0] = 1. # co2 forcing = 1\n",
    "scale[8] = 1. # aerosol forcing = 1\n",
    "\n",
    "\"\"\" Run model \"\"\"\n",
    "C,F,T,_,_,_ = fair.forward.fair_scm(emissions,\n",
    "    temperature_function='Geoffroy',\n",
    "    natural=np.array([209.2492,11.1555]), # natural emissions of CH4 and N2O\n",
    "    aerosol_forcing=\"stevens\",\n",
    "    scale=scale,\n",
    "    F_volcanic=0,                       # turn volcanic forcing off\n",
    "    F_solar=0,                          # turn solar forcing off\n",
    "    )\n"
   ]
  },
  {
   "cell_type": "code",
   "execution_count": null,
   "metadata": {},
   "outputs": [],
   "source": [
    "\"\"\" --- Plot the output! --- \"\"\"\n",
    "\n",
    "fig, ax = plt.subplots(ncols=4, dpi=300, figsize=(16, 4))\n",
    "\n",
    "# Plot CO2 concs\n",
    "ax[0].plot(emissions[:,0], C[:,0], color='royalblue')\n",
    "ax[0].set_ylabel(r\"$\\mathrm{CO}_{\\mathrm{2}}$ concentrations [ppm]\")\n",
    "\n",
    "# Plot SOx emissions\n",
    "ax[1].plot(emissions[:,0], emissions[:,5], color='black')\n",
    "ax[1].set_ylabel(r\"$\\mathrm{SO}_{\\mathrm{x}}$ emissions [ Mt / yr ]\")\n",
    "\n",
    "# Plot RF\n",
    "ax[2].plot(emissions[:,0], F[:,0], label=r'$\\mathrm{CO}_{\\mathrm{2}}$')\n",
    "ax[2].plot(emissions[:,0], F[:,8], label=r'Aerosols') #-F[:,8][0]\n",
    "ax[2].set_ylabel(r\"Radiative forcing [W m$^{-2}$ K$^{-1}$]\")\n",
    "ax[2].legend()\n",
    "\n",
    "# Plot dT\n",
    "ax[3].plot(emissions[:,0], T, color='red')\n",
    "ax[3].set_ylabel(r\"Temperature change [K]\")\n",
    "\n",
    "fig.tight_layout()"
   ]
  },
  {
   "cell_type": "markdown",
   "metadata": {},
   "source": [
    "### (2) Now, instead of adding a pulse injection of $\\mathrm{SO}_{\\mathrm{x}}$, change it to a steady emission rate. \n",
    "\n",
    "### Can you stabilize global temperatures?? \n",
    "\n",
    "#### Extension: How much harder is it if CO2 emissions increase with time? \n",
    "For example\n",
    "```python\n",
    "emissions = np.zeros((300, 40)) \n",
    "\n",
    "# Column 0 is year.\n",
    "emissions[:,0] = np.arange(1850,2150) \n",
    "\n",
    "# Column 1 is CO2, GtC/yr.\n",
    "emissions[:,1]=0.02*np.arange(300) \n",
    "```"
   ]
  },
  {
   "cell_type": "code",
   "execution_count": null,
   "metadata": {},
   "outputs": [],
   "source": [
    "\"\"\"Set up emissions time series\"\"\"\n",
    "emissions = np.zeros((300, 40)) \n",
    "\n",
    "# Column 0 is year.\n",
    "emissions[:,0] = np.arange(1850,2150)    \n",
    "\n",
    "# Column 1 is CO2, GtC/yr. \n",
    "#emissions[:,1][20] = 100 \n",
    "emissions[:,1] = 0.02*np.arange(300)   \n",
    "\n",
    "# Column 5 is SOX emissions, Mt/yr\n",
    "emissions[:,5][100:] = 10.\n",
    "    \n",
    "\"\"\" Scale all other forcings to zero except aerosol \"\"\"\n",
    "scale = np.zeros(13) # all other forcing (methane etc) = 0\n",
    "scale[0] = 1. # co2 forcing = 1\n",
    "scale[8] = 1. # aerosol forcing = 1\n",
    "\n",
    "\"\"\" Run model \"\"\"\n",
    "C,F,T,_,_,_ = fair.forward.fair_scm(emissions,\n",
    "    temperature_function='Geoffroy',\n",
    "    natural=np.array([209.2492,11.1555]), # natural emissions of CH4 and N2O\n",
    "    aerosol_forcing=\"stevens\",\n",
    "    scale=scale,\n",
    "    F_volcanic=0,                       # turn volcanic forcing off\n",
    "    F_solar=0,                          # turn solar forcing off\n",
    "    )"
   ]
  },
  {
   "cell_type": "code",
   "execution_count": null,
   "metadata": {},
   "outputs": [],
   "source": [
    "\"\"\" --- Plot the output! --- \"\"\"\n",
    "\n",
    "fig, ax = plt.subplots(ncols=4, dpi=300, figsize=(16, 4))\n",
    "\n",
    "# Plot CO2 concs\n",
    "ax[0].plot(emissions[:,0], C[:,0], color='blue')\n",
    "ax[0].set_ylabel(r\"$\\mathrm{CO}_{\\mathrm{2}}$ concentrations [ppm]\")\n",
    "\n",
    "# Plot SOx emissions\n",
    "ax[1].plot(emissions[:,0], emissions[:,5], color='orange')\n",
    "ax[1].set_ylabel(r\"$\\mathrm{SO}_{\\mathrm{x}}$ emissions [ Mt / yr ]\")\n",
    "\n",
    "# Plot RF\n",
    "ax[2].plot(emissions[:,0], F[:,0], color='blue',label=r'$\\mathrm{CO}_{\\mathrm{2}}$')\n",
    "ax[2].plot(emissions[:,0], F[:,8], color='orange',label=r'Aerosols')\n",
    "ax[2].set_ylabel(r\"Radiative forcing [W m$^{-2}$ K$^{-1}$]\")\n",
    "ax[2].legend()\n",
    "\n",
    "# Plot dT\n",
    "ax[3].plot(emissions[:,0], T, color='black')\n",
    "ax[3].set_ylabel(r\"Temperature change [K]\")\n",
    "\n",
    "fig.tight_layout()"
   ]
  },
  {
   "cell_type": "markdown",
   "metadata": {},
   "source": [
    "# Section 3 - Simulating historical 20th century temperatures"
   ]
  },
  {
   "cell_type": "markdown",
   "metadata": {},
   "source": [
    "## Observations\n",
    "\n",
    "We have a good handle on what global temperature was during the historical period (read: the 20$^{\\mathrm{th}}$ century), you can see a plot of the global, annual-mean temperature below. The warming is clear to see, and should make it all the stranger that climate deniers still manage to exist."
   ]
  },
  {
   "cell_type": "code",
   "execution_count": null,
   "metadata": {},
   "outputs": [],
   "source": [
    "#Read in observations, and remove 1861-80 climatology\n",
    "Y_obs, T_obs = np.genfromtxt(\"./Data/HadCRUT.4.5.0.0.annual_ns_avg.txt\")[:,0], np.genfromtxt(\"./Data/HadCRUT.4.5.0.0.annual_ns_avg.txt\")[:,1]\n",
    "i_obs_clm=(1861<=Y_obs) & (Y_obs<=1880)\n",
    "T_obs=T_obs-np.mean(T_obs[i_obs_clm])"
   ]
  },
  {
   "cell_type": "code",
   "execution_count": null,
   "metadata": {},
   "outputs": [],
   "source": [
    "fig, ax = plt.subplots(dpi=100)\n",
    "ax.scatter(Y_obs, T_obs, s=10)\n",
    "ax.set_ylabel(\"Temperature anomaly [K]\")"
   ]
  },
  {
   "cell_type": "markdown",
   "metadata": {},
   "source": [
    "#### Now, let's try and simulate this historical temperature record using `FaIR` and see how well it does! \n",
    "\n",
    "#### To do that, we'll need to make use of the \"Representative Concentration Pathways\""
   ]
  },
  {
   "cell_type": "markdown",
   "metadata": {},
   "source": [
    "### 3.1 - The Representative Concentration Pathways (RCPs)\n",
    "\n",
    "For more realistic multiGas scenarios, setting up a 40-column emissions timeseries every time you want to run `FaIR` is a lot of work! </br>\n",
    "\n",
    "Lucky for us though, `FaIR` already has some \"IPCC-approved\" multi-species scenarios coded up! These are called the *Representative Concentration Pathways* (RCPs). </br>\n",
    "\n",
    "**These RCPs contain all the same data on emissions/forcings over the 20$^{\\mathrm{th}}$ century, and then extrapolate into the future under various different socio-economic scenarios.** </br>"
   ]
  },
  {
   "cell_type": "code",
   "execution_count": null,
   "metadata": {},
   "outputs": [],
   "source": [
    "# Get RCP modules\n",
    "from fair.RCPs import rcp85"
   ]
  },
  {
   "cell_type": "code",
   "execution_count": null,
   "metadata": {},
   "outputs": [],
   "source": [
    "\"\"\" Run model \"\"\"\n",
    "C,F,T_fair,_,_,_ = fair_scm(rcp85.Emissions.emissions,\n",
    "                           temperature_function='Geoffroy',\n",
    "                           aerosol_forcing=\"stevens\",\n",
    "                           )\n",
    "\n",
    "# Remove 1861-80 climatology\n",
    "T_fair_anom = T_fair - np.mean(T_fair[1861-1765:1880-1765])\n",
    "\n",
    "# Just select years from 1850-2017\n",
    "T_fair_anom = T_fair_anom[1850-1765:2018-1765] "
   ]
  },
  {
   "cell_type": "code",
   "execution_count": null,
   "metadata": {},
   "outputs": [],
   "source": [
    "\"\"\" Compare observations and model-predictions \"\"\"\n",
    "\n",
    "fig, ax = plt.subplots(dpi=100)\n",
    "\n",
    "ax.scatter(Y_obs, T_obs, s=10)           # Obs\n",
    "ax.plot(Y_obs, T_fair_anom, 'orange')    # FaIR\n",
    "\n",
    "ax.set_ylabel(\"Temperature anomaly [K]\")\n",
    "\n",
    "# Calculate standard deviation between model and obs\n",
    "error = round(np.std(T_obs - T_fair_anom), 2)\n",
    "props = dict(boxstyle='round', facecolor='wheat', alpha=0.5)\n",
    "\n",
    "ax.text(0.1, 0.7, f\"Error = {error} K\", transform=ax.transAxes, bbox=props)"
   ]
  },
  {
   "cell_type": "markdown",
   "metadata": {},
   "source": [
    "## \"What's going on?\": A simple decomposition\n",
    "\n",
    "At the moment, this is a little bit of a black box! But thankfully, we can **decompose the changes** in forcing and temperature into contributions from:"
   ]
  },
  {
   "cell_type": "markdown",
   "metadata": {},
   "source": [
    "- Greenhouse gases </br>"
   ]
  },
  {
   "cell_type": "markdown",
   "metadata": {},
   "source": [
    "- Aerosols"
   ]
  },
  {
   "cell_type": "markdown",
   "metadata": {},
   "source": [
    "- Natural variability (volcanos etc)"
   ]
  },
  {
   "cell_type": "markdown",
   "metadata": {},
   "source": [
    "Decomposing the forcing and temperature changes like this means we can get a clearer picture of what's happening!"
   ]
  },
  {
   "cell_type": "code",
   "execution_count": null,
   "metadata": {},
   "outputs": [],
   "source": [
    "\"\"\" Set model parameters \"\"\"\n",
    "lambda_global = 1.13                       # Default = 1.13 [W m^-2 K^-1]\n",
    "ocean_heat_capacity=np.array([8.2, 109.0]) # Defaults = 8.2, 109.0 [W yr m^-2 K^-1]\n",
    "\n",
    "\"\"\"Set scalings for the anthropogenic GHG and aerosol and natural forcings (defaults=1.0)\"\"\"\n",
    "scale_ghg = 1.0\n",
    "scale_aer = 1.0\n",
    "scale_nat = 1.0\n",
    "\n",
    "\n",
    "\"\"\" Run model \"\"\"\n",
    "_,F_output,_,_,_,_ = fair_scm(rcp85.Emissions.emissions,\n",
    "                           temperature_function='Geoffroy',\n",
    "                           aerosol_forcing=\"stevens\",\n",
    "                           lambda_global = lambda_global,\n",
    "                           )\n",
    "\n",
    "# Subset to 1850-2017\n",
    "F_output = F_output[1850-1765:2018-1765, :]\n",
    "\n",
    "\"\"\" Decompose forcings into GHGs, aerosols and natural forcing \"\"\"\n",
    "F_ghg = F_output[:,0] +F_output[:,1]+F_output[:,2]+F_output[:,3]+F_output[:,7]\n",
    "F_aer = F_output[:,6]+F_output[:,8]+F_output[:,9] # F_output[:,4]+F_output[:,5]\n",
    "F_nat = F_output[:,10]+F_output[:,11]+F_output[:,12]\n",
    "F_tot = F_ghg+F_aer+F_nat\n",
    "\n",
    "\"\"\" Re-run model to get temperature response due to decomposed forcings \"\"\"\n",
    "_,_,T_ghg,_,_,_ = fair_scm(emissions=False,\n",
    "                       other_rf=F_ghg,\n",
    "                       temperature_function='Geoffroy',\n",
    "                       aerosol_forcing=\"stevens\",\n",
    "                       useMultigas=False,\n",
    "                       lambda_global = lambda_global, \n",
    "                       scale=scale_ghg\n",
    "                       )\n",
    "\n",
    "_,_,T_aer,_,_,_ = fair_scm(emissions=False,\n",
    "                       other_rf=F_aer,\n",
    "                       temperature_function='Geoffroy',\n",
    "                       aerosol_forcing=\"stevens\",\n",
    "                       useMultigas=False,\n",
    "                       lambda_global = lambda_global, \n",
    "                       scale=scale_aer\n",
    "                       )\n",
    "\n",
    "\n",
    "_,_,T_nat,_,_,_ = fair_scm(emissions=False,\n",
    "                       other_rf=F_nat,\n",
    "                       temperature_function='Geoffroy',\n",
    "                       aerosol_forcing=\"stevens\",\n",
    "                       useMultigas=False,\n",
    "                       lambda_global = lambda_global, \n",
    "                       scale=scale_nat\n",
    "                       )\n",
    "\n",
    "T_tot = T_ghg + T_aer + T_nat"
   ]
  },
  {
   "cell_type": "code",
   "execution_count": null,
   "metadata": {},
   "outputs": [],
   "source": [
    "\"\"\" Plot the output! \"\"\"\n",
    "\n",
    "fig, ax = plt.subplots(nrows=2, dpi=100, figsize = (8,8))\n",
    "ax[0].plot(Y_obs, F_tot, color='red', label='Total')\n",
    "ax[0].plot(Y_obs, F_ghg, color='magenta', label='GHGs')\n",
    "ax[0].plot(Y_obs, F_aer, color='blue', label='Aerosols')\n",
    "ax[0].plot(Y_obs, F_ghg+F_aer, color='orange', label='Total anthro.')\n",
    "ax[0].plot(Y_obs, F_nat, color='green', label='Natural')\n",
    "\n",
    "ax[0].set_ylim(-1.5, 3.5)\n",
    "ax[0].set_ylabel(r\"Forcing [W m$^{-2}$ K$^{-1}$]\")\n",
    "ax[0].legend()\n",
    "\n",
    "\n",
    "ax[1].scatter(Y_obs, T_obs, s=10, color='black', label='Obs')\n",
    "ax[1].plot(Y_obs, T_tot, color='red', label='Total')\n",
    "ax[1].plot(Y_obs, T_ghg, color='magenta', label='GHGs')\n",
    "ax[1].plot(Y_obs, T_aer, color='blue', label='Aerosols')\n",
    "ax[1].plot(Y_obs, T_ghg+T_aer, color='orange', label='Total anthro.')\n",
    "ax[1].plot(Y_obs, T_nat, color='green', label='Natural')\n",
    "\n",
    "# Calculate standard deviation between model and obs\n",
    "error = round(np.std(T_obs - T_tot), 2)\n",
    "props = dict(boxstyle='round', facecolor='wheat', alpha=0.5)\n",
    "ax[1].text(0.3, 0.85, f\"Standard deviation = {error} K\", transform=ax[1].transAxes, bbox=props)\n",
    "\n",
    "ax[1].set_ylabel(r\"Temperature anomaly [K]\")\n",
    "\n",
    "ax[1].legend()"
   ]
  },
  {
   "cell_type": "markdown",
   "metadata": {},
   "source": [
    "## Question: So, what happened?"
   ]
  },
  {
   "cell_type": "markdown",
   "metadata": {},
   "source": [
    "**1) Explain the main features of the GHG, aerosol and natural radiative forcing curves.**"
   ]
  },
  {
   "cell_type": "code",
   "execution_count": null,
   "metadata": {},
   "outputs": [],
   "source": []
  },
  {
   "cell_type": "markdown",
   "metadata": {},
   "source": [
    "**2) Vary the scalings of the GHG, aerosol and natural radiative forcings – how does each affect the simulated temperatures?**"
   ]
  },
  {
   "cell_type": "code",
   "execution_count": null,
   "metadata": {},
   "outputs": [],
   "source": []
  },
  {
   "cell_type": "markdown",
   "metadata": {},
   "source": [
    "**3) Set the scalings back to 1 and instead vary the `lambda_global` parameter and re-run the model. What's the highest/lowest value you can get while still matching the historical record?**"
   ]
  },
  {
   "cell_type": "code",
   "execution_count": null,
   "metadata": {},
   "outputs": [],
   "source": []
  },
  {
   "cell_type": "markdown",
   "metadata": {},
   "source": [
    "**4) Extension: It's often suggested that climate models with a high climate sensitivity (small $\\lambda$) must *also* have a strong aerosol forcing in order to match the historical record, do you agree?** </br>\n",
    "\n",
    "To explore this question, vary the `lambda_global` and the `scale_aer` parameters simultaneously to simulate different (sensitivity, F$_{\\mathrm{aer}}$) combinations. How does the model error change as a function of these two parameters? (P.S. Try a contour plot!)\n",
    "\n",
    "You're also given that $\\lambda=1.13\\pm0.28 \\, [\\mathrm{W} \\, \\mathrm{m}^{-2} \\, \\mathrm{K}^{-1}]$ and `scale_aer`$\\approx 1\\pm0.3$"
   ]
  },
  {
   "cell_type": "code",
   "execution_count": null,
   "metadata": {},
   "outputs": [],
   "source": [
    "\"\"\" Wrap everything above into a function \"\"\"\n",
    "\n",
    "\n",
    "def historical_temp_error(scale_aer=1, lambda_global=1.13):\n",
    "    \"\"\" Set model parameters \"\"\"\n",
    "    ocean_heat_capacity=np.array([8.2, 109.0]) # Defaults = 8.2, 109.0 [W yr m^-2 K^-1]\n",
    "\n",
    "    \"\"\"Set scalings for the anthropogenic GHG and aerosol and natural forcings (defaults=1.0)\"\"\"\n",
    "    scale_ghg = 1.0\n",
    "    scale_nat = 1.0\n",
    "\n",
    "\n",
    "    \"\"\" Run model \"\"\"\n",
    "    _,F_output,_,_,_,_ = fair_scm(rcp85.Emissions.emissions,\n",
    "                               temperature_function='Geoffroy',\n",
    "                               aerosol_forcing=\"stevens\",\n",
    "                               lambda_global = lambda_global,\n",
    "                               )\n",
    "\n",
    "    # Subset to 1850-2017\n",
    "    F_output = F_output[1850-1765:2018-1765, :]\n",
    "\n",
    "    \"\"\" Decompose forcings into GHGs, aerosols and natural forcing \"\"\"\n",
    "    F_ghg = F_output[:,0] +F_output[:,1]+F_output[:,2]+F_output[:,3]+F_output[:,7]\n",
    "    F_aer = F_output[:,6]+F_output[:,8]+F_output[:,9] # F_output[:,4]+F_output[:,5]\n",
    "    F_nat = F_output[:,10]+F_output[:,11]+F_output[:,12]\n",
    "    F_tot = F_ghg+F_aer+F_nat\n",
    "\n",
    "    \"\"\" Re-run model to get temperature response due to decomposed forcings \"\"\"\n",
    "    _,_,T_ghg,_,_,_ = fair_scm(emissions=False,\n",
    "                           other_rf=F_ghg,\n",
    "                           temperature_function='Geoffroy',\n",
    "                           aerosol_forcing=\"stevens\",\n",
    "                           useMultigas=False,\n",
    "                           lambda_global = lambda_global, \n",
    "                           scale=scale_ghg\n",
    "                           )\n",
    "\n",
    "    _,_,T_aer,_,_,_ = fair_scm(emissions=False,\n",
    "                           other_rf=F_aer,\n",
    "                           temperature_function='Geoffroy',\n",
    "                           aerosol_forcing=\"stevens\",\n",
    "                           useMultigas=False,\n",
    "                           lambda_global = lambda_global, \n",
    "                           scale=scale_aer\n",
    "                           )\n",
    "\n",
    "\n",
    "    _,_,T_nat,_,_,_ = fair_scm(emissions=False,\n",
    "                           other_rf=F_nat,\n",
    "                           temperature_function='Geoffroy',\n",
    "                           aerosol_forcing=\"stevens\",\n",
    "                           useMultigas=False,\n",
    "                           lambda_global = lambda_global, \n",
    "                           scale=scale_nat\n",
    "                           )\n",
    "\n",
    "    T_tot = T_ghg + T_aer + T_nat\n",
    "    \n",
    "    err = round(np.std(T_obs - T_tot), 2)\n",
    "    \n",
    "    return err"
   ]
  },
  {
   "cell_type": "code",
   "execution_count": null,
   "metadata": {},
   "outputs": [],
   "source": [
    "num_vals = 20\n",
    "lambda_vals = np.linspace(1.13-0.28, 1.13+0.28, num=num_vals)\n",
    "scale_vals  = np.linspace(1.0-0.3, 1.0+0.3, num=num_vals)"
   ]
  },
  {
   "cell_type": "code",
   "execution_count": null,
   "metadata": {},
   "outputs": [],
   "source": [
    "%%time\n",
    "\n",
    "T_outps = np.empty((num_vals,num_vals))\n",
    "\n",
    "for l_idx, lam in enumerate(lambda_vals):\n",
    "    for s_idx, scale in enumerate(scale_vals):\n",
    "        T_outps[l_idx, s_idx] = historical_temp_error(scale_aer=scale, lambda_global=lam)"
   ]
  },
  {
   "cell_type": "code",
   "execution_count": null,
   "metadata": {},
   "outputs": [],
   "source": [
    "import matplotlib \n",
    "\n",
    "L, S = np.meshgrid(lambda_vals, scale_vals)\n",
    "\n",
    "fig, ax = plt.subplots(dpi=100)\n",
    "cs = ax.contourf(L,S, T_outps, cmap=matplotlib.cm.viridis)\n",
    "ax.set_xlabel(r\"$\\lambda$\")\n",
    "ax.set_ylabel(r\"scale$_{\\mathrm{aero}}$\")\n",
    "fig.colorbar(cs, label=\"Model error [K]\")"
   ]
  },
  {
   "cell_type": "code",
   "execution_count": null,
   "metadata": {},
   "outputs": [],
   "source": []
  },
  {
   "cell_type": "code",
   "execution_count": null,
   "metadata": {},
   "outputs": [],
   "source": []
  },
  {
   "cell_type": "code",
   "execution_count": null,
   "metadata": {},
   "outputs": [],
   "source": []
  },
  {
   "cell_type": "code",
   "execution_count": null,
   "metadata": {},
   "outputs": [],
   "source": []
  }
 ],
 "metadata": {
  "kernelspec": {
   "display_name": "Python 3",
   "language": "python",
   "name": "python3"
  },
  "language_info": {
   "codemirror_mode": {
    "name": "ipython",
    "version": 3
   },
   "file_extension": ".py",
   "mimetype": "text/x-python",
   "name": "python",
   "nbconvert_exporter": "python",
   "pygments_lexer": "ipython3",
   "version": "3.7.7"
  }
 },
 "nbformat": 4,
 "nbformat_minor": 4
}
